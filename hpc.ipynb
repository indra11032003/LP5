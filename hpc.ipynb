{
  "nbformat": 4,
  "nbformat_minor": 0,
  "metadata": {
    "colab": {
      "provenance": [],
      "toc_visible": true
    },
    "kernelspec": {
      "name": "python3",
      "display_name": "Python 3"
    },
    "language_info": {
      "name": "python"
    }
  },
  "cells": [
    {
      "cell_type": "code",
      "execution_count": 1,
      "metadata": {
        "colab": {
          "base_uri": "https://localhost:8080/"
        },
        "id": "RAq_NMnbw7C3",
        "outputId": "f0d2cc4f-db09-4c60-fdf8-cd003743793d"
      },
      "outputs": [
        {
          "output_type": "stream",
          "name": "stderr",
          "text": [
            "<ipython-input-1-c4f5642ab8c4>:18: FutureWarning: A value is trying to be set on a copy of a DataFrame or Series through chained assignment using an inplace method.\n",
            "The behavior will change in pandas 3.0. This inplace method will never work because the intermediate object on which we are setting values always behaves as a copy.\n",
            "\n",
            "For example, when doing 'df[col].method(value, inplace=True)', try using 'df.method({col: value}, inplace=True)' or df[col] = df[col].method(value) instead, to perform the operation inplace on the original object.\n",
            "\n",
            "\n",
            "  df[\"age\"].fillna(df[\"age\"].median(), inplace=True)\n",
            "<ipython-input-1-c4f5642ab8c4>:19: FutureWarning: A value is trying to be set on a copy of a DataFrame or Series through chained assignment using an inplace method.\n",
            "The behavior will change in pandas 3.0. This inplace method will never work because the intermediate object on which we are setting values always behaves as a copy.\n",
            "\n",
            "For example, when doing 'df[col].method(value, inplace=True)', try using 'df.method({col: value}, inplace=True)' or df[col] = df[col].method(value) instead, to perform the operation inplace on the original object.\n",
            "\n",
            "\n",
            "  df[\"embarked\"].fillna(df[\"embarked\"].mode()[0], inplace=True)\n"
          ]
        },
        {
          "output_type": "stream",
          "name": "stdout",
          "text": [
            "Accuracy: 0.8212\n",
            "\n",
            "Classification Report:\n",
            "               precision    recall  f1-score   support\n",
            "\n",
            "           0       0.83      0.88      0.85       105\n",
            "           1       0.81      0.74      0.77        74\n",
            "\n",
            "    accuracy                           0.82       179\n",
            "   macro avg       0.82      0.81      0.81       179\n",
            "weighted avg       0.82      0.82      0.82       179\n",
            "\n"
          ]
        }
      ],
      "source": [
        "import seaborn as sns\n",
        "import pandas as pd\n",
        "from sklearn.ensemble import RandomForestClassifier\n",
        "from sklearn.model_selection import train_test_split\n",
        "from sklearn.metrics import accuracy_score, classification_report\n",
        "from sklearn.preprocessing import LabelEncoder\n",
        "\n",
        "# Load Titanic dataset\n",
        "df = sns.load_dataset(\"titanic\")\n",
        "\n",
        "# Drop columns with too many missing or irrelevant data\n",
        "df = df.drop(columns=[\"deck\", \"embark_town\", \"alive\", \"class\", \"who\", \"adult_male\"])\n",
        "\n",
        "# Drop rows with missing target\n",
        "df = df.dropna(subset=[\"survived\"])\n",
        "\n",
        "# Fill or encode missing/categorical data\n",
        "df[\"age\"].fillna(df[\"age\"].median(), inplace=True)\n",
        "df[\"embarked\"].fillna(df[\"embarked\"].mode()[0], inplace=True)\n",
        "\n",
        "# Encode categorical features\n",
        "le = LabelEncoder()\n",
        "for col in [\"sex\", \"embarked\"]:\n",
        "    df[col] = le.fit_transform(df[col])\n",
        "\n",
        "# Select features and target\n",
        "features = [\"pclass\", \"sex\", \"age\", \"sibsp\", \"parch\", \"fare\", \"embarked\"]\n",
        "X = df[features]\n",
        "y = df[\"survived\"]\n",
        "\n",
        "# Train-test split\n",
        "X_train, X_test, y_train, y_test = train_test_split(X, y, test_size=0.2, random_state=42)\n",
        "\n",
        "# Random Forest with parallelism (n_jobs=-1 uses all cores)\n",
        "model = RandomForestClassifier(n_estimators=100, n_jobs=-1, random_state=42)\n",
        "model.fit(X_train, y_train)\n",
        "\n",
        "# Predict and evaluate\n",
        "y_pred = model.predict(X_test)\n",
        "acc = accuracy_score(y_test, y_pred)\n",
        "print(f\"Accuracy: {acc:.4f}\")\n",
        "print(\"\\nClassification Report:\\n\", classification_report(y_test, y_pred))\n"
      ]
    },
    {
      "cell_type": "code",
      "source": [],
      "metadata": {
        "id": "VEP4QId7w8Om"
      },
      "execution_count": null,
      "outputs": []
    }
  ]
}