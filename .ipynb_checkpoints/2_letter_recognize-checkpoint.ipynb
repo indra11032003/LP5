{
 "cells": [
  {
   "cell_type": "code",
   "execution_count": 6,
   "id": "a174e2d9-ee79-41ad-bc92-89481810973b",
   "metadata": {},
   "outputs": [
    {
     "name": "stdout",
     "output_type": "stream",
     "text": [
      "Epoch 1/20\n",
      "450/450 [==============================] - 1s 2ms/step - loss: 1.8472 - accuracy: 0.4957 - val_loss: 1.1407 - val_accuracy: 0.6894\n",
      "Epoch 2/20\n",
      "450/450 [==============================] - 1s 1ms/step - loss: 0.9822 - accuracy: 0.7268 - val_loss: 0.9120 - val_accuracy: 0.7319\n",
      "Epoch 3/20\n",
      "450/450 [==============================] - 1s 2ms/step - loss: 0.7997 - accuracy: 0.7697 - val_loss: 0.7428 - val_accuracy: 0.7794\n",
      "Epoch 4/20\n",
      "450/450 [==============================] - 1s 1ms/step - loss: 0.6862 - accuracy: 0.8003 - val_loss: 0.6401 - val_accuracy: 0.8050\n",
      "Epoch 5/20\n",
      "450/450 [==============================] - 1s 2ms/step - loss: 0.6120 - accuracy: 0.8173 - val_loss: 0.5668 - val_accuracy: 0.8275\n",
      "Epoch 6/20\n",
      "450/450 [==============================] - 1s 1ms/step - loss: 0.5422 - accuracy: 0.8398 - val_loss: 0.5300 - val_accuracy: 0.8313\n",
      "Epoch 7/20\n",
      "450/450 [==============================] - 1s 1ms/step - loss: 0.4999 - accuracy: 0.8478 - val_loss: 0.4998 - val_accuracy: 0.8425\n",
      "Epoch 8/20\n",
      "450/450 [==============================] - 1s 1ms/step - loss: 0.4542 - accuracy: 0.8633 - val_loss: 0.4695 - val_accuracy: 0.8444\n",
      "Epoch 9/20\n",
      "450/450 [==============================] - 1s 1ms/step - loss: 0.4233 - accuracy: 0.8701 - val_loss: 0.4369 - val_accuracy: 0.8550\n",
      "Epoch 10/20\n",
      "450/450 [==============================] - 1s 1ms/step - loss: 0.3922 - accuracy: 0.8817 - val_loss: 0.3865 - val_accuracy: 0.8775\n",
      "Epoch 11/20\n",
      "450/450 [==============================] - 1s 1ms/step - loss: 0.3699 - accuracy: 0.8860 - val_loss: 0.3690 - val_accuracy: 0.8863\n",
      "Epoch 12/20\n",
      "450/450 [==============================] - 1s 1ms/step - loss: 0.3494 - accuracy: 0.8934 - val_loss: 0.3496 - val_accuracy: 0.8900\n",
      "Epoch 13/20\n",
      "450/450 [==============================] - 1s 1ms/step - loss: 0.3229 - accuracy: 0.8978 - val_loss: 0.3300 - val_accuracy: 0.8956\n",
      "Epoch 14/20\n",
      "450/450 [==============================] - 1s 1ms/step - loss: 0.3071 - accuracy: 0.9042 - val_loss: 0.3051 - val_accuracy: 0.9056\n",
      "Epoch 15/20\n",
      "450/450 [==============================] - 1s 1ms/step - loss: 0.2915 - accuracy: 0.9097 - val_loss: 0.3058 - val_accuracy: 0.9075\n",
      "Epoch 16/20\n",
      "450/450 [==============================] - 1s 1ms/step - loss: 0.2821 - accuracy: 0.9102 - val_loss: 0.2992 - val_accuracy: 0.9087\n",
      "Epoch 17/20\n",
      "450/450 [==============================] - 1s 1ms/step - loss: 0.2653 - accuracy: 0.9154 - val_loss: 0.2778 - val_accuracy: 0.9112\n",
      "Epoch 18/20\n",
      "450/450 [==============================] - 1s 1ms/step - loss: 0.2554 - accuracy: 0.9188 - val_loss: 0.2716 - val_accuracy: 0.9162\n",
      "Epoch 19/20\n",
      "450/450 [==============================] - 1s 1ms/step - loss: 0.2438 - accuracy: 0.9224 - val_loss: 0.2682 - val_accuracy: 0.9131\n",
      "Epoch 20/20\n",
      "450/450 [==============================] - 1s 1ms/step - loss: 0.2279 - accuracy: 0.9271 - val_loss: 0.2441 - val_accuracy: 0.9225\n"
     ]
    },
    {
     "data": {
      "text/plain": [
       "<keras.src.callbacks.History at 0x250a129a1c0>"
      ]
     },
     "execution_count": 6,
     "metadata": {},
     "output_type": "execute_result"
    }
   ],
   "source": [
    "import pandas as pd\n",
    "import numpy as np\n",
    "from sklearn.model_selection import train_test_split\n",
    "from sklearn.preprocessing import LabelEncoder\n",
    "from tensorflow.keras.models import Sequential\n",
    "from tensorflow.keras.layers import Dense\n",
    "from tensorflow.keras.utils import to_categorical\n",
    "\n",
    "# Load the dataset\n",
    "data = pd.read_csv('2_letter_recognition.data', header=None)\n",
    "\n",
    "# First column is the label (letter), rest are features\n",
    "X = data.iloc[:, 1:].values\n",
    "y = data.iloc[:, 0].values\n",
    "\n",
    "# Encode labels (A-Z) to integers (0-25)\n",
    "le = LabelEncoder()\n",
    "y_encoded = le.fit_transform(y)\n",
    "\n",
    "# One-hot encode the labels\n",
    "y_categorical = to_categorical(y_encoded)\n",
    "\n",
    "# Split into train and test sets\n",
    "X_train, X_test, y_train, y_test = train_test_split(X, y_categorical, test_size=0.2, random_state=42)\n",
    "\n",
    "# Build a simple deep neural network\n",
    "model = Sequential([\n",
    "    Dense(128, input_dim=16, activation='relu'),\n",
    "    Dense(64, activation='relu'),\n",
    "    Dense(26, activation='softmax')  # 26 classes (A-Z)\n",
    "])\n",
    "\n",
    "# Compile the model\n",
    "model.compile(optimizer='adam', loss='categorical_crossentropy', metrics=['accuracy'])\n",
    "\n",
    "# Train the model\n",
    "model.fit(X_train, y_train, epochs=20, batch_size=32, validation_split=0.1)\n",
    "\n",
    "\n"
   ]
  },
  {
   "cell_type": "code",
   "execution_count": 7,
   "id": "ed555cbd-af55-4ef1-9050-ab6e233d27be",
   "metadata": {},
   "outputs": [
    {
     "name": "stdout",
     "output_type": "stream",
     "text": [
      "125/125 [==============================] - 0s 1ms/step\n",
      "Predicted accuracy: 0.92\n"
     ]
    }
   ],
   "source": [
    "from sklearn.metrics import accuracy_score\n",
    "\n",
    "# Predict on the test set\n",
    "y_pred = model.predict(X_test)\n",
    "\n",
    "# Convert the predicted probabilities to class labels\n",
    "y_pred_classes = np.argmax(y_pred, axis=1)\n",
    "\n",
    "# Convert the true labels to class indices (if they are one-hot encoded)\n",
    "y_true = np.argmax(y_test, axis=1)\n",
    "\n",
    "# Calculate accuracy using accuracy_score\n",
    "accuracy = accuracy_score(y_true, y_pred_classes)\n",
    "\n",
    "print(f'Predicted accuracy: {accuracy:.2f}')\n"
   ]
  },
  {
   "cell_type": "code",
   "execution_count": 9,
   "id": "ebe0bb9f-352d-4bae-b77a-e306e0677d03",
   "metadata": {},
   "outputs": [
    {
     "data": {
      "text/plain": [
       "array([19, 17,  0, ..., 16, 24, 24], dtype=int64)"
      ]
     },
     "execution_count": 9,
     "metadata": {},
     "output_type": "execute_result"
    }
   ],
   "source": [
    "y_pred_classes"
   ]
  },
  {
   "cell_type": "code",
   "execution_count": null,
   "id": "c2dba188-ffe6-44d5-a2af-326cb9c335ea",
   "metadata": {},
   "outputs": [],
   "source": []
  }
 ],
 "metadata": {
  "kernelspec": {
   "display_name": "Python 3 (ipykernel)",
   "language": "python",
   "name": "python3"
  },
  "language_info": {
   "codemirror_mode": {
    "name": "ipython",
    "version": 3
   },
   "file_extension": ".py",
   "mimetype": "text/x-python",
   "name": "python",
   "nbconvert_exporter": "python",
   "pygments_lexer": "ipython3",
   "version": "3.8.10"
  }
 },
 "nbformat": 4,
 "nbformat_minor": 5
}
